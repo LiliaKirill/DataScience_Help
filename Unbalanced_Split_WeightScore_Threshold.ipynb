{
 "cells": [
  {
   "cell_type": "markdown",
   "metadata": {},
   "source": [
    "# Goal \n",
    "\n",
    "In this kernel we will consider a few points:\n",
    "    - 1. How to split to Train/Valid Unbalanced Dataset\n",
    "    - 2. How to improve score by:\n",
    "        2.1 Defining weights\n",
    "        2.2 Changing threshold\n",
    "        \n",
    "Dataset used - load_breast_cancer"
   ]
  },
  {
   "cell_type": "markdown",
   "metadata": {},
   "source": [
    "# Load"
   ]
  },
  {
   "cell_type": "code",
   "execution_count": 241,
   "metadata": {},
   "outputs": [],
   "source": [
    "%matplotlib inline\n",
    "from fastai.imports import *\n",
    "from sklearn.ensemble import RandomForestRegressor, RandomForestClassifier\n",
    "from IPython.display import display\n",
    "from sklearn import metrics\n",
    "from sklearn.datasets import load_breast_cancer\n",
    "\n",
    "from sklearn.model_selection import train_test_split\n",
    "\n",
    "from sklearn.ensemble import RandomForestClassifier\n",
    "from sklearn.metrics import roc_auc_score\n",
    "from sklearn.metrics import f1_score\n",
    "\n",
    "from sklearn.metrics import confusion_matrix"
   ]
  },
  {
   "cell_type": "markdown",
   "metadata": {},
   "source": [
    "# Model"
   ]
  },
  {
   "cell_type": "code",
   "execution_count": 3,
   "metadata": {},
   "outputs": [
    {
     "name": "stdout",
     "output_type": "stream",
     "text": [
      "Classes_proportion\n"
     ]
    },
    {
     "data": {
      "text/plain": [
       "1    357\n",
       "0    212\n",
       "Name: TARGET, dtype: int64"
      ]
     },
     "execution_count": 3,
     "metadata": {},
     "output_type": "execute_result"
    }
   ],
   "source": [
    "df=load_breast_cancer()\n",
    "\n",
    "x=pd.DataFrame(df['data'])\n",
    "y=pd.DataFrame(df['target'])\n",
    "\n",
    "x.columns=df['feature_names']\n",
    "y.columns=['TARGET']\n",
    "\n",
    "#Unbalanced Dataset\n",
    "print('Classes_proportion')\n",
    "y['TARGET'].value_counts()"
   ]
  },
  {
   "cell_type": "code",
   "execution_count": 12,
   "metadata": {},
   "outputs": [
    {
     "name": "stdout",
     "output_type": "stream",
     "text": [
      "Share_0/1_train\n",
      " 1    0.627119\n",
      "0    0.372881\n",
      "Name: TARGET, dtype: float64\n",
      "Share_0/1_test\n",
      " 1    0.628866\n",
      "0    0.371134\n",
      "Name: TARGET, dtype: float64\n"
     ]
    }
   ],
   "source": [
    "#Prepare Train/Valid Set\n",
    "#can use stratify by defauld it alredy done as well in function\n",
    "\n",
    "X_train,X_val,y_train,y_val=train_test_split(x,y,test_size=0.17,shuffle=True,random_state=1,stratify=y)\n",
    "\n",
    "# With test size 17% we have best split - train equal to test\n",
    "print('Share_0/1_train\\n', y_train['TARGET'].value_counts()/len(y_train))\n",
    "print('Share_0/1_test\\n', y_val['TARGET'].value_counts()/len(y_val))"
   ]
  },
  {
   "cell_type": "code",
   "execution_count": 14,
   "metadata": {},
   "outputs": [
    {
     "name": "stdout",
     "output_type": "stream",
     "text": [
      "(472, 30)\n",
      "(97, 30)\n"
     ]
    }
   ],
   "source": [
    "print(X_train.shape)\n",
    "print(X_val.shape)"
   ]
  },
  {
   "cell_type": "markdown",
   "metadata": {},
   "source": [
    "## Helper\n"
   ]
  },
  {
   "cell_type": "code",
   "execution_count": 246,
   "metadata": {},
   "outputs": [],
   "source": [
    "# Function to calculate score (threshold could be changed)\n",
    "#score - f1_score, roc_auc_score\n",
    "def thresh_set_score_f1(r1,r2,m,score):\n",
    "    #m=RandomForestClassifier(random_state=1,oob_score=True)\n",
    "    m.fit(X_train,y_train.values.ravel())\n",
    "    pred_p=m.predict_proba(X_val)[:,1]\n",
    "    pred_thr=[]\n",
    "\n",
    "    for j in range(r1,r2,1):\n",
    "        pred_thr=[]\n",
    "        for i in range(0,len(pred_p)):\n",
    "                if list(pred_p)[i]>j/100:\n",
    "                    pred_thr.append(1)\n",
    "                else:\n",
    "                    pred_thr.append(0)\n",
    "        print(j/100)\n",
    "        print('Score: ', score(y_val['TARGET'],pred_thr,average='weighted'))\n",
    "        score=score(y_val['TARGET'],pred_thr,average='weighted')\n",
    "        print('Confusion_matrix_Baseline: \\n',confusion_matrix(y_val,m.predict(X_val)))\n",
    "        return score"
   ]
  },
  {
   "cell_type": "markdown",
   "metadata": {},
   "source": [
    "# Prediction"
   ]
  },
  {
   "cell_type": "code",
   "execution_count": 244,
   "metadata": {},
   "outputs": [
    {
     "name": "stdout",
     "output_type": "stream",
     "text": [
      "--BASELINE_SCORES\n",
      "OOB_Score no weights: 0.9661016949152542\n",
      "VAL_ROC_AUC no weights: 0.9742714025500911\n",
      "VAL_F1: 0.9381443298969072\n",
      "Confusion_matrix_Baseline: \n",
      " [[33  3]\n",
      " [ 3 58]]\n"
     ]
    }
   ],
   "source": [
    "#Classify_baseline\n",
    "m=RandomForestClassifier(random_state=1,oob_score=True)\n",
    "m.fit(X_train,y_train.values.ravel())\n",
    "print('--BASELINE_SCORES')\n",
    "print('OOB_Score no weights:',m.oob_score_)\n",
    "print('VAL_ROC_AUC no weights:',roc_auc_score(y_val,(m.predict_proba(X_val)[:,1])))\n",
    "print('VAL_F1:',f1_score(y_val,m.predict(X_val), average='weighted'))\n",
    "print('Confusion_matrix_Baseline: \\n',confusion_matrix(y_val,m.predict(X_val)))"
   ]
  },
  {
   "cell_type": "code",
   "execution_count": 232,
   "metadata": {},
   "outputs": [
    {
     "name": "stdout",
     "output_type": "stream",
     "text": [
      "15\n",
      "3\n",
      "F1: 0.979253171172027\n"
     ]
    }
   ],
   "source": [
    "#Search for weights to improve score F1\n",
    "\n",
    "# better to use valid score not oob to define best parameters\n",
    "\n",
    "#i=15\n",
    "#j=3\n",
    "for i in [15]:\n",
    "    for j in [3]:\n",
    "\n",
    "        m=RandomForestClassifier(random_state=1,oob_score=True,class_weight={0:i,1:j})\n",
    "        m.fit(X_train,y_train.values.ravel())\n",
    "        print(i)\n",
    "        print(j)\n",
    "        #print('OOB_Score no weights:',m.oob_score_)\n",
    "        #print('TEST_Score no weights:',roc_auc_score(y_test,(m.predict_proba(X_test)[:,1])))\n",
    "        \n",
    "        print('F1:',f1_score(y_val,m.predict(X_val), average='weighted'))\n"
   ]
  },
  {
   "cell_type": "code",
   "execution_count": 245,
   "metadata": {},
   "outputs": [
    {
     "name": "stdout",
     "output_type": "stream",
     "text": [
      "--TUNED_CLASS_WEIGHT_SCORES--\n",
      "OOB_Score weights: 0.9576271186440678\n",
      "VAL_ROC_AUC weights: 0.9842896174863388\n",
      "VAL_F1: 0.979253171172027\n",
      "Confusion_matrix_Baseline: \n",
      " [[34  2]\n",
      " [ 0 61]]\n"
     ]
    }
   ],
   "source": [
    "#Improved AUC and F1 scores by defined weights\n",
    "m=RandomForestClassifier(random_state=1,oob_score=True,class_weight={0:15,1:3})\n",
    "m.fit(X_train,y_train.values.ravel())\n",
    "print('--TUNED_CLASS_WEIGHT_SCORES--')\n",
    "print('OOB_Score weights:',m.oob_score_)\n",
    "print('VAL_ROC_AUC weights:',roc_auc_score(y_val,(m.predict_proba(X_val)[:,1])))\n",
    "print('VAL_F1:',f1_score(y_val,m.predict(X_val), average='weighted'))\n",
    "print('Confusion_matrix_Baseline: \\n',confusion_matrix(y_val,m.predict(X_val)))"
   ]
  },
  {
   "cell_type": "code",
   "execution_count": 247,
   "metadata": {},
   "outputs": [
    {
     "name": "stdout",
     "output_type": "stream",
     "text": [
      "0.49\n",
      "Score:  0.979253171172027\n",
      "Confusion_matrix_Baseline: \n",
      " [[34  2]\n",
      " [ 0 61]]\n"
     ]
    },
    {
     "data": {
      "text/plain": [
       "0.979253171172027"
      ]
     },
     "execution_count": 247,
     "metadata": {},
     "output_type": "execute_result"
    }
   ],
   "source": [
    "#model with tunned class_weight\n",
    "#threshold value - 0.5 is ok!\n",
    "\n",
    "#weighted F1 with defined weghts not improve score with changing threshold\n",
    "\n",
    "m=RandomForestClassifier(random_state=1,oob_score=True,class_weight={0:15,1:3})\n",
    "thresh_set_score_f1(49,51,m,f1_score)"
   ]
  },
  {
   "cell_type": "code",
   "execution_count": 248,
   "metadata": {
    "scrolled": true
   },
   "outputs": [
    {
     "name": "stdout",
     "output_type": "stream",
     "text": [
      "0.31\n",
      "Score:  0.9687709547288212\n",
      "Confusion_matrix_Baseline: \n",
      " [[33  3]\n",
      " [ 3 58]]\n",
      "0.31\n",
      "Score:  0.9583333333333333\n",
      "Confusion_matrix_Baseline: \n",
      " [[33  3]\n",
      " [ 3 58]]\n"
     ]
    }
   ],
   "source": [
    "m=RandomForestClassifier(random_state=1,oob_score=True)\n",
    "\n",
    "#f1_score\n",
    "score_F1_bas_thr=thresh_set_score_f1(31,32,m,f1_score)\n",
    "score_F1_bas_thr=round(score_F1_bas_thr,4)\n",
    "\n",
    "#roc_auc_score\n",
    "score_auc_bas_thr=thresh_set_score_f1(31,32,m,roc_auc_score)\n",
    "score_auc_bas_thr=round(score_F1_bas_thr,4)"
   ]
  },
  {
   "cell_type": "code",
   "execution_count": 249,
   "metadata": {},
   "outputs": [
    {
     "name": "stdout",
     "output_type": "stream",
     "text": [
      "0.5\n",
      "Score:  0.9381443298969072\n",
      "Confusion_matrix_Baseline: \n",
      " [[33  3]\n",
      " [ 3 58]]\n",
      "0.31\n",
      "Score:  0.9583333333333333\n",
      "Confusion_matrix_Baseline: \n",
      " [[33  3]\n",
      " [ 3 58]]\n"
     ]
    }
   ],
   "source": [
    "\n",
    "m=RandomForestClassifier(random_state=1,oob_score=True)\n",
    "\n",
    "#f1_score\n",
    "score_F1_baseline=thresh_set_score_f1(50,51,m,f1_score)\n",
    "score_F1_baseline=round(score_F1_baseline,4)\n",
    "\n",
    "#roc_auc_score\n",
    "score_auc_baseline=thresh_set_score_f1(31,32,m,roc_auc_score)\n",
    "score_auc_baseline=round(score_F1_baseline,4)"
   ]
  },
  {
   "cell_type": "code",
   "execution_count": 250,
   "metadata": {},
   "outputs": [
    {
     "name": "stdout",
     "output_type": "stream",
     "text": [
      "0.5\n",
      "Score:  0.979253171172027\n",
      "Confusion_matrix_Baseline: \n",
      " [[34  2]\n",
      " [ 0 61]]\n",
      "0.5\n",
      "Score:  0.9722222222222222\n",
      "Confusion_matrix_Baseline: \n",
      " [[34  2]\n",
      " [ 0 61]]\n"
     ]
    }
   ],
   "source": [
    "#Model class_w tunned\n",
    "m=RandomForestClassifier(random_state=1,oob_score=True,class_weight={0:15,1:3})\n",
    "m.fit(X_train,y_train.values.ravel())\n",
    "\n",
    "#f1_score\n",
    "score_F1_class_w=thresh_set_score_f1(50,51,m,f1_score)\n",
    "score_F1_class_w=round(score_F1_class_w,4)\n",
    "\n",
    "#f1_score\n",
    "score_auc_class_w=thresh_set_score_f1(50,51,m,roc_auc_score)\n",
    "score_auc_class_w=round(score_auc_class_w,4)"
   ]
  },
  {
   "cell_type": "code",
   "execution_count": 251,
   "metadata": {},
   "outputs": [
    {
     "data": {
      "image/png": "[encoded data removed]",
      "text/plain": [
       "<Figure size 720x288 with 1 Axes>"
      ]
     },
     "metadata": {
      "needs_background": "light"
     },
     "output_type": "display_data"
    }
   ],
   "source": [
    "sc=pd.DataFrame([score_F1_baseline,score_F1_class_w,score_F1_bas_thr]).T\n",
    "\n",
    "sc.columns=['score_F1_baseline','score_F1_class_w','score_F1_bas_thr']\n",
    "sc.plot(kind='bar',figsize=(10,4))\n",
    "plt.xlabel('Models')\n",
    "plt.ylabel('F_1_Value')\n",
    "plt.legend(loc='upper right')\n",
    "plt.title('F1_score')\n",
    "plt.show()"
   ]
  },
  {
   "cell_type": "code",
   "execution_count": 252,
   "metadata": {},
   "outputs": [
    {
     "data": {
      "image/png": "[encoded data removed]",
      "text/plain": [
       "<Figure size 720x288 with 1 Axes>"
      ]
     },
     "metadata": {
      "needs_background": "light"
     },
     "output_type": "display_data"
    }
   ],
   "source": [
    "sc=pd.DataFrame([score_F1_baseline,score_F1_class_w,score_F1_bas_thr]).T\n",
    "\n",
    "sc.columns=['score_auc_baseline','score_auc_class_w','score_auc_bas_thr']\n",
    "sc.plot(kind='bar',figsize=(10,4))\n",
    "plt.xlabel('Models')\n",
    "plt.ylabel('AUC_Value')\n",
    "plt.legend(loc='upper right')\n",
    "plt.title('AUC_score')\n",
    "plt.show()"
   ]
  },
  {
   "cell_type": "code",
   "execution_count": null,
   "metadata": {},
   "outputs": [],
   "source": [
    "# Conclusion\n",
    "\n",
    "We studied few points:\n",
    "    - 1. How to split unbalanced df to train/test and check classes proportion\n",
    "    - 2. How optimize class_weight parameter for RF to have better prediction for unbalanced df (F1_score)\n",
    "    - 3. How optimize threshold parameter to improve baseline score (F1_score)\n",
    "    - 4. According to confusion matrix we decreased number of mistakes in prediction from 6 (3+3) to (2).\n",
    "        However these 2 mistakes still in dangerous area (upper right corner of matrix),\n",
    "        which means that for 2 people with desease we predicted that they are healthy\n",
    "        Model tunning required!"
   ]
  },
  {
   "cell_type": "code",
   "execution_count": null,
   "metadata": {},
   "outputs": [],
   "source": []
  }
 ],
 "metadata": {
  "kernelspec": {
   "display_name": "Python 3",
   "language": "python",
   "name": "python3"
  },
  "language_info": {
   "codemirror_mode": {
    "name": "ipython",
    "version": 3
   },
   "file_extension": ".py",
   "mimetype": "text/x-python",
   "name": "python",
   "nbconvert_exporter": "python",
   "pygments_lexer": "ipython3",
   "version": "3.7.3"
  }
 },
 "nbformat": 4,
 "nbformat_minor": 4
}
