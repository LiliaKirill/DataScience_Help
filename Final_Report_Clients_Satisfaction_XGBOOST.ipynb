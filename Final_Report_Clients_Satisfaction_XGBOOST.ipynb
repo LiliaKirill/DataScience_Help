{
 "cells": [
  {
   "cell_type": "markdown",
   "metadata": {},
   "source": [
    "# Goal\n",
    "\n",
    "Based on the Bank data indetify not satisfied clients (TARGET=1) Score - roc_auc_score"
   ]
  },
  {
   "cell_type": "code",
   "execution_count": 1,
   "metadata": {},
   "outputs": [],
   "source": [
    "# Load\n",
    "\n",
    "# Import data and modules\n",
    "import numpy as np\n",
    "import pandas as pd\n",
    "import seaborn as sns\n",
    "sns.set_palette('husl')\n",
    "import matplotlib.pyplot as plt\n",
    "%matplotlib inline\n",
    "from sklearn import datasets\n",
    "from random import shuffle\n",
    "import scipy\n",
    "from scipy.cluster import hierarchy as hc\n",
    "\n",
    "from sklearn.metrics import confusion_matrix\n",
    "from sklearn.metrics import classification_report\n",
    "\n",
    "from sklearn import metrics\n",
    "from sklearn.neighbors import KNeighborsClassifier\n",
    "from sklearn.linear_model import LogisticRegression\n",
    "from sklearn.model_selection import train_test_split\n",
    "from sklearn.model_selection import StratifiedKFold\n",
    "\n",
    "from sklearn.tree import DecisionTreeClassifier\n",
    "from sklearn.neighbors import KNeighborsClassifier  # for K nearest neighbours\n",
    "from sklearn import svm  #for Support Vector Machine (SVM) Algorithm\n",
    "from sklearn import metrics #for checking the model accuracy\n",
    "from sklearn.svm import SVC\n",
    "from sklearn.naive_bayes import GaussianNB\n",
    "from sklearn.ensemble import RandomForestClassifier\n",
    "\n",
    "import xgboost as xgb\n",
    "from xgboost.sklearn import XGBClassifier\n",
    "from catboost import Pool, CatBoostClassifier\n",
    "\n",
    "import pandas as pd\n",
    "import numpy as np\n",
    "from sklearn.preprocessing import LabelEncoder\n",
    "\n",
    "import matplotlib.pyplot as plt\n",
    "%matplotlib inline\n",
    "import seaborn as sns\n",
    "\n",
    "import re\n",
    "import gc\n",
    "from sklearn.metrics import fbeta_score, make_scorer\n",
    "from sklearn.model_selection import KFold\n",
    "from sklearn.ensemble import GradientBoostingClassifier\n",
    "from sklearn.ensemble import RandomForestClassifier\n",
    "from sklearn.model_selection import cross_val_score\n",
    "from sklearn.preprocessing import scale\n",
    "from sklearn.metrics import accuracy_score\n",
    "from sklearn.model_selection import GridSearchCV\n",
    "from sklearn.metrics import roc_auc_score\n",
    "from sklearn.metrics import f1_score\n",
    "\n",
    "from sklearn import metrics\n",
    "from sklearn.neighbors import KNeighborsClassifier\n",
    "from sklearn.linear_model import LogisticRegression\n",
    "from sklearn.model_selection import train_test_split\n",
    "\n",
    "from sklearn.tree import DecisionTreeClassifier\n",
    "from sklearn.neighbors import KNeighborsClassifier  # for K nearest neighbours\n",
    "from sklearn import svm  #for Support Vector Machine (SVM) Algorithm\n",
    "from sklearn import metrics #for checking the model accuracy\n",
    "from sklearn.svm import SVC\n",
    "from sklearn.naive_bayes import GaussianNB\n",
    "from sklearn.ensemble import RandomForestClassifier\n",
    "\n",
    "import xgboost as xgb\n",
    "from xgboost.sklearn import XGBClassifier\n",
    "from catboost import Pool, CatBoostClassifier\n",
    "\n",
    "from sklearn.preprocessing import StandardScaler\n",
    "\n",
    "from numpy import argmax\n",
    "\n",
    "from sklearn.decomposition import PCA"
   ]
  },
  {
   "cell_type": "markdown",
   "metadata": {},
   "source": [
    "# Data"
   ]
  },
  {
   "cell_type": "code",
   "execution_count": 2,
   "metadata": {},
   "outputs": [
    {
     "name": "stdout",
     "output_type": "stream",
     "text": [
      "(76020, 370)\n",
      "(75818, 369)\n",
      "Null_train: 0\n",
      "Null_test: 0\n",
      "Very imbalanced dataset \n",
      " 0    73012\n",
      "1     3008\n",
      "Name: TARGET, dtype: int64\n"
     ]
    }
   ],
   "source": [
    "# test set almast the same size as train\n",
    "train=pd.read_csv('train.csv')\n",
    "train=train.drop(['ID'],axis=1)\n",
    "test=pd.read_csv('test.csv')\n",
    "test=test.drop(['ID'],axis=1)\n",
    "\n",
    "print(train.shape)\n",
    "print(test.shape)\n",
    "\n",
    "# No NaN data\n",
    "print('Null_train:',train.isnull().sum().sum())\n",
    "print('Null_test:',train.isnull().sum().sum())\n",
    "\n",
    "\n",
    "#very imbalanced dataset\n",
    "print('Very imbalanced dataset \\n',train['TARGET'].value_counts())"
   ]
  },
  {
   "cell_type": "markdown",
   "metadata": {},
   "source": [
    "### So\n",
    "- 1. We will use cross-val\n",
    "- 2. Imbalanced measures required\n",
    "\n"
   ]
  },
  {
   "cell_type": "markdown",
   "metadata": {},
   "source": [
    "# Data Analysis"
   ]
  },
  {
   "cell_type": "code",
   "execution_count": 3,
   "metadata": {},
   "outputs": [
    {
     "data": {
      "text/plain": [
       "Index(['0', '1', '2', '3', '4', '5', '6', '7', '8', '9',\n",
       "       ...\n",
       "       '359', '360', '361', '362', '363', '364', '365', '366', '367', '368'],\n",
       "      dtype='object', length=369)"
      ]
     },
     "execution_count": 3,
     "metadata": {},
     "output_type": "execute_result"
    }
   ],
   "source": [
    "X_train=train.drop(['TARGET'],axis=1)\n",
    "y_train=train['TARGET']\n",
    "\n",
    "X_test=test.copy()\n",
    "\n",
    "#True\n",
    "X_train.columns==X_test.columns\n",
    "\n",
    "# simplify names of columns\n",
    "\n",
    "col_name=pd.DataFrame(list(range(1,(int(len(X_train.columns)+1))))).T\n",
    "X_train.columns=col_name.columns\n",
    "X_train.columns=X_train.columns.astype(str)\n",
    "X_test.columns=col_name.columns\n",
    "X_test.columns=X_test.columns.astype(str)\n",
    "\n",
    "#Save columns name\n",
    "Columns_Dict = {'Old': train.columns,\n",
    "            'New': X_train.columns\n",
    "            }\n",
    "np.save('columns_dict.npy', Columns_Dict) \n",
    "\n",
    "X_train.columns"
   ]
  },
  {
   "cell_type": "code",
   "execution_count": 4,
   "metadata": {},
   "outputs": [
    {
     "name": "stdout",
     "output_type": "stream",
     "text": [
      "Columns with only 1 value= 34\n",
      "Train_set_size (76020, 335)\n",
      "Test_set_size (75818, 335)\n"
     ]
    }
   ],
   "source": [
    "#drop columns with constant value\n",
    "low_var=[]\n",
    "for i  in range(0,369):\n",
    "    if X_train[str(i)].value_counts().count()==1:\n",
    "        low_var.append(str(i))\n",
    "    else:\n",
    "        continue\n",
    "print('Columns with only 1 value=',len(low_var))\n",
    "\n",
    "#drop these coumns\n",
    "\n",
    "for i in [X_train,X_test]:\n",
    "    X_train_=X_train.drop(low_var,axis=1)\n",
    "    X_test_=X_test.drop(low_var,axis=1)\n",
    "print('Train_set_size',X_train_.shape)\n",
    "print('Test_set_size',X_test_.shape)"
   ]
  },
  {
   "cell_type": "markdown",
   "metadata": {},
   "source": [
    "# Baseline score"
   ]
  },
  {
   "cell_type": "markdown",
   "metadata": {},
   "source": [
    "### helper"
   ]
  },
  {
   "cell_type": "code",
   "execution_count": 5,
   "metadata": {},
   "outputs": [],
   "source": [
    "#calculate score\n",
    "def score_cv(m,col,scor):\n",
    "    kf = StratifiedKFold(n_splits=2, shuffle=True, random_state=5)\n",
    "    scorer = make_scorer(scor, greater_is_better = True,average='weighted')\n",
    "    score= cross_val_score(m, X_train_[col], y_train, scoring = scorer, cv = kf) \n",
    "    return(score.mean())"
   ]
  },
  {
   "cell_type": "code",
   "execution_count": 140,
   "metadata": {},
   "outputs": [],
   "source": [
    "#Check Confusion matrix\n",
    "\n",
    "def conf_matrix(m,col):\n",
    "    kf = StratifiedKFold(n_splits=2, shuffle=True, random_state=5)\n",
    "    pred_full=[]\n",
    "    y_full=[]\n",
    "    for i in [0.5]:\n",
    "        threshold = i\n",
    "        sc=[]\n",
    "        for train, test in kf.split(X_train_,y_train):\n",
    "                m.fit(X_train_.iloc[train][col], y_train.iloc[train])\n",
    "                pred = m.predict(X_train_.iloc[test][col])\n",
    "                # list to write data\n",
    "                pred_full=pred_full+list(pred)\n",
    "\n",
    "                y_full=y_full+list(y_train.iloc[test].values)\n",
    "\n",
    "\n",
    "                #score=roc_auc_score(y_train.iloc[test].values,pred,average='weighted')\n",
    "                #sc.append(score)\n",
    "    print('Roc_AUC: \\n',roc_auc_score(y_full,pred_full,average='weighted'))\n",
    "    print('Confusion_matrix_Baseline: \\n',confusion_matrix(y_full,pred_full))"
   ]
  },
  {
   "cell_type": "code",
   "execution_count": 43,
   "metadata": {},
   "outputs": [
    {
     "data": {
      "text/plain": [
       "0.5004644292660723"
      ]
     },
     "execution_count": 43,
     "metadata": {},
     "output_type": "execute_result"
    }
   ],
   "source": [
    "### Calculate baseline -XGBoost-cross_val - auc=0.5\n",
    "m=XGBClassifier(random_state=243, n_jobs=-1)\n",
    "col=X_train_.columns\n",
    "score_cv(m,col,roc_auc_score)"
   ]
  },
  {
   "cell_type": "markdown",
   "metadata": {},
   "source": [
    "## Tune baseline score"
   ]
  },
  {
   "cell_type": "markdown",
   "metadata": {},
   "source": [
    "### scale_pos_weight\n",
    "- This parameter important for imbalanced ds.\n",
    "- To find it we have to number of negative class/positive class (f.e. 73012/3008=24)\n"
   ]
  },
  {
   "cell_type": "code",
   "execution_count": 44,
   "metadata": {},
   "outputs": [
    {
     "data": {
      "text/plain": [
       "0.76254152079052"
      ]
     },
     "execution_count": 44,
     "metadata": {},
     "output_type": "execute_result"
    }
   ],
   "source": [
    "# check score with tunned scale_pos_weight auc=0.762\n",
    "m=XGBClassifier(random_state=243, n_jobs=-1,scale_pos_weight=24)\n",
    "col=X_train_.columns\n",
    "score_cv(m,col,roc_auc_score)"
   ]
  },
  {
   "cell_type": "code",
   "execution_count": 46,
   "metadata": {},
   "outputs": [],
   "source": [
    "#check test score (Kaggle) with tunned -0.757\n",
    "m=XGBClassifier(random_state=243, n_jobs=-1,scale_pos_weight=24)\n",
    "m.fit(X_train_,y_train)\n",
    "pred_scale_pos=m.predict(X_test_)"
   ]
  },
  {
   "cell_type": "code",
   "execution_count": 47,
   "metadata": {},
   "outputs": [],
   "source": [
    "submission = pd.read_csv(\"sample_submission.csv\", index_col='ID')\n",
    "submission['TARGET'] = pred_scale_pos.astype(int)\n",
    "submission.to_csv('sample_submission.csv')"
   ]
  },
  {
   "cell_type": "code",
   "execution_count": 56,
   "metadata": {
    "scrolled": true
   },
   "outputs": [
    {
     "name": "stdout",
     "output_type": "stream",
     "text": [
      "40\n",
      "0.7623422858352633\n",
      "90\n",
      "0.7615323508464362\n",
      "100\n",
      "0.76254152079052\n",
      "105\n",
      "0.7625446352596076\n",
      "500\n",
      "0.7547540093962986\n"
     ]
    }
   ],
   "source": [
    "### n_estimators 40-0.7623422858352633\n",
    "#for n in [40,90,100,105,500]:\n",
    "#for l in [0.3,0.5,1]:\n",
    "#for m in [6,10,15,25,None]:\n",
    "#for s in [1,0.1,0.2,0.5,0.8]:\n",
    "#for w in [25,45,70]:\n",
    "    m=XGBClassifier(random_state=243, n_jobs=-1,\n",
    "                    #learning_rate=l,\n",
    "                    #max_depth=m,\n",
    "                    #subsample=s,\n",
    "                    scale_pos_weight=24,\n",
    "                    n_estimators=n\n",
    "                   )\n",
    "    kf = StratifiedKFold(n_splits=2, shuffle=True, random_state=5)\n",
    "    col=X_train_.columns\n",
    "    print(n)\n",
    "    print(score_cv(m,col,roc_auc_score))"
   ]
  },
  {
   "cell_type": "code",
   "execution_count": 57,
   "metadata": {},
   "outputs": [],
   "source": [
    "#submit X_test_with n_est\n",
    "m=XGBClassifier(random_state=243, n_jobs=-1,scale_pos_weight=24,n_estimators=105)\n",
    "m.fit(X_train_,y_train)\n",
    "pred_n_est105=m.predict(X_test_)\n",
    "submission = pd.read_csv(\"sample_submission.csv\", index_col='ID')\n",
    "submission['TARGET'] = pred_scale_pos.astype(int)\n",
    "submission.to_csv('sample_submission.csv')"
   ]
  },
  {
   "cell_type": "markdown",
   "metadata": {},
   "source": [
    "# tune threshold"
   ]
  },
  {
   "cell_type": "code",
   "execution_count": null,
   "metadata": {},
   "outputs": [],
   "source": []
  },
  {
   "cell_type": "markdown",
   "metadata": {},
   "source": [
    "### Feature Importance"
   ]
  },
  {
   "cell_type": "code",
   "execution_count": 7,
   "metadata": {},
   "outputs": [
    {
     "data": {
      "text/plain": [
       "XGBClassifier(base_score=0.5, booster='gbtree', colsample_bylevel=1,\n",
       "              colsample_bynode=1, colsample_bytree=1, gamma=0,\n",
       "              learning_rate=0.1, max_delta_step=0, max_depth=3,\n",
       "              min_child_weight=1, missing=None, n_estimators=105, n_jobs=-1,\n",
       "              nthread=None, objective='binary:logistic', random_state=243,\n",
       "              reg_alpha=0, reg_lambda=1, scale_pos_weight=24, seed=None,\n",
       "              silent=None, subsample=1, verbosity=1)"
      ]
     },
     "execution_count": 7,
     "metadata": {},
     "output_type": "execute_result"
    }
   ],
   "source": [
    "col=X_train_.columns\n",
    "m=XGBClassifier(random_state=243, n_jobs=-1,scale_pos_weight=24, n_estimators=105)\n",
    "m.fit(X_train_[col],y_train)"
   ]
  },
  {
   "cell_type": "code",
   "execution_count": 8,
   "metadata": {},
   "outputs": [
    {
     "name": "stdout",
     "output_type": "stream",
     "text": [
      "Amount of feat importance == 0, 263\n",
      "Amount of feat importance > 0, 72\n"
     ]
    }
   ],
   "source": [
    "importance = m.feature_importances_\n",
    "feat_impot=pd.DataFrame((zip(X_train_[col].columns, importance)), columns=['Feat','Importance']).sort_values(by='Importance',ascending=False)\n",
    "feat_impot['Feat']=feat_impot['Feat'].astype(str)\n",
    "fi_no_imp=feat_impot[feat_impot.Importance==0]\n",
    "print('Amount of feat importance == 0,',len (fi_no_imp))\n",
    "fi=feat_impot[feat_impot.Importance>0]\n",
    "print('Amount of feat importance > 0,',len (fi))\n",
    "col_fi=list(fi['Feat'].values)"
   ]
  },
  {
   "cell_type": "code",
   "execution_count": 9,
   "metadata": {},
   "outputs": [
    {
     "name": "stdout",
     "output_type": "stream",
     "text": [
      "Amount of feat importance > 0, 72\n"
     ]
    },
    {
     "data": {
      "text/plain": [
       "Text(0.5, 1.0, '')"
      ]
     },
     "execution_count": 9,
     "metadata": {},
     "output_type": "execute_result"
    },
    {
     "data": {
      "image/png": "[encoded data removed]",
      "text/plain": [
       "<Figure size 864x432 with 1 Axes>"
      ]
     },
     "metadata": {
      "needs_background": "light"
     },
     "output_type": "display_data"
    }
   ],
   "source": [
    "fi.plot('Feat', 'Importance', figsize=(12,6), legend=False)\n",
    "plt.title(print('Amount of feat importance > 0,',len (fi)))"
   ]
  },
  {
   "cell_type": "code",
   "execution_count": 10,
   "metadata": {},
   "outputs": [],
   "source": [
    "def plot_fi(fi): return fi.plot('Feat', 'Importance', 'barh', figsize=(12,9), legend=False)"
   ]
  },
  {
   "cell_type": "code",
   "execution_count": 11,
   "metadata": {},
   "outputs": [
    {
     "data": {
      "text/plain": [
       "<matplotlib.axes._subplots.AxesSubplot at 0xbce8780>"
      ]
     },
     "execution_count": 11,
     "metadata": {},
     "output_type": "execute_result"
    },
    {
     "data": {
      "image/png": "[encoded data removed]",
      "text/plain": [
       "<Figure size 864x648 with 1 Axes>"
      ]
     },
     "metadata": {
      "needs_background": "light"
     },
     "output_type": "display_data"
    }
   ],
   "source": [
    "# We see that some feat has huge importance\n",
    "plot_fi(fi)"
   ]
  },
  {
   "cell_type": "code",
   "execution_count": 208,
   "metadata": {},
   "outputs": [
    {
     "name": "stdout",
     "output_type": "stream",
     "text": [
      "0.7648281876718603\n",
      "0.7651724639989229\n",
      "0.7633601890420811\n",
      "0.7631236168843127\n"
     ]
    }
   ],
   "source": [
    "### Calculate Score with different FI threshold\n",
    "### i=0.008 (0.009,0.008,0.0075) 0.7651724639989229\n",
    "for i in [0.0085,0.008,0.0075,0.007]:\n",
    "    col_fi_thr = fi[fi.Importance>i]['Feat'].values\n",
    "    m=XGBClassifier(random_state=243, n_jobs=-1,\n",
    "                    #learning_rate=l,\n",
    "                    #max_depth=m,\n",
    "                    #subsample=s,\n",
    "                    scale_pos_weight=24,\n",
    "                    n_estimators=105\n",
    "                   )\n",
    "    kf = StratifiedKFold(n_splits=2, shuffle=True, random_state=5)\n",
    "    col=col_fi_thr\n",
    "    print(score_cv(m,col,roc_auc_score))"
   ]
  },
  {
   "cell_type": "code",
   "execution_count": 12,
   "metadata": {},
   "outputs": [
    {
     "name": "stdout",
     "output_type": "stream",
     "text": [
      "FI_col_0.008, amount = 27\n"
     ]
    }
   ],
   "source": [
    "# Remember columns feat imp 0.008- 27 columns\n",
    "col_fi_008=fi[fi.Importance>0.008]['Feat'].values\n",
    "print('FI_col_0.008, amount =',len(col_fi_008))"
   ]
  },
  {
   "cell_type": "markdown",
   "metadata": {},
   "source": [
    "## Dengdrogram to define rebundent features (colinear)"
   ]
  },
  {
   "cell_type": "code",
   "execution_count": 13,
   "metadata": {},
   "outputs": [
    {
     "data": {
      "image/png": "[encoded data removed]",
      "text/plain": [
       "<Figure size 1152x720 with 1 Axes>"
      ]
     },
     "metadata": {
      "needs_background": "light"
     },
     "output_type": "display_data"
    }
   ],
   "source": [
    "# There are some colinear features\n",
    "col=col_fi_008\n",
    "\n",
    "corr = np.round(scipy.stats.spearmanr(X_train_[col]).correlation, 4)\n",
    "corr_condensed = hc.distance.squareform(1-corr)\n",
    "z = hc.linkage(corr_condensed, method='average')\n",
    "fig = plt.figure(figsize=(16,10))\n",
    "dendrogram = hc.dendrogram(z, labels=X_train_[col].columns, orientation='left', leaf_font_size=16)\n",
    "plt.show()"
   ]
  },
  {
   "cell_type": "code",
   "execution_count": 235,
   "metadata": {},
   "outputs": [
    {
     "name": "stdout",
     "output_type": "stream",
     "text": [
      "['17']\n",
      "0.7644758155464971\n",
      "['17', '324']\n",
      "0.7626928002071358\n",
      "['17', '324', '88']\n",
      "0.7630227609043573\n",
      "['17', '324', '88', '280']\n",
      "0.7636671099533623\n",
      "['17', '324', '88', '280', '13']\n",
      "0.7642093554134499\n",
      "['17', '324', '88', '280', '13', '164']\n",
      "0.76495892252046\n",
      "['17', '324', '88', '280', '13', '164', '4']\n",
      "0.7633651703712943\n",
      "['17', '324', '88', '280', '13', '164', '4', '157']\n",
      "0.7612328973756572\n",
      "['17', '324', '88', '280', '13', '164', '4', '157', '190']\n",
      "0.7648599334006301\n",
      "['17', '324', '88', '280', '13', '164', '4', '157', '190', '329']\n",
      "0.7634168414169166\n",
      "['17', '324', '88', '280', '13', '164', '4', '157', '190', '329', '334']\n",
      "0.7645729378062014\n",
      "['17', '324', '88', '280', '13', '164', '4', '157', '190', '329', '334', '14']\n",
      "0.7651145640151255\n",
      "['17', '324', '88', '280', '13', '164', '4', '157', '190', '329', '334', '14', '125']\n",
      "0.7628839302574569\n",
      "['17', '324', '88', '280', '13', '164', '4', '157', '190', '329', '334', '14', '125', '279']\n",
      "0.7647167406756803\n",
      "['17', '324', '88', '280', '13', '164', '4', '157', '190', '329', '334', '14', '125', '279', '330']\n",
      "0.7649010225366626\n",
      "['17', '324', '88', '280', '13', '164', '4', '157', '190', '329', '334', '14', '125', '279', '330', '11']\n",
      "0.7646688124569438\n",
      "['17', '324', '88', '280', '13', '164', '4', '157', '190', '329', '334', '14', '125', '279', '330', '11', '275']\n",
      "0.7636241539572044\n",
      "['17', '324', '88', '280', '13', '164', '4', '157', '190', '329', '334', '14', '125', '279', '330', '11', '275', '182']\n",
      "0.7595451192226053\n",
      "['17', '324', '88', '280', '13', '164', '4', '157', '190', '329', '334', '14', '125', '279', '330', '11', '275', '182', '276']\n",
      "0.7633290534578401\n",
      "['17', '324', '88', '280', '13', '164', '4', '157', '190', '329', '334', '14', '125', '279', '330', '11', '275', '182', '276', '0']\n",
      "0.7650367387144753\n",
      "['17', '324', '88', '280', '13', '164', '4', '157', '190', '329', '334', '14', '125', '279', '330', '11', '275', '182', '276', '0', '328']\n",
      "0.7634803419810908\n",
      "['17', '324', '88', '280', '13', '164', '4', '157', '190', '329', '334', '14', '125', '279', '330', '11', '275', '182', '276', '0', '328', '368']\n",
      "0.7602984382631359\n",
      "['17', '324', '88', '280', '13', '164', '4', '157', '190', '329', '334', '14', '125', '279', '330', '11', '275', '182', '276', '0', '328', '368', '331']\n",
      "0.7639329417286111\n",
      "['17', '324', '88', '280', '13', '164', '4', '157', '190', '329', '334', '14', '125', '279', '330', '11', '275', '182', '276', '0', '328', '368', '331', '277']\n",
      "0.7632443890744862\n",
      "['17', '324', '88', '280', '13', '164', '4', '157', '190', '329', '334', '14', '125', '279', '330', '11', '275', '182', '276', '0', '328', '368', '331', '277', '12']\n",
      "0.7635986280599749\n",
      "['17', '324', '88', '280', '13', '164', '4', '157', '190', '329', '334', '14', '125', '279', '330', '11', '275', '182', '276', '0', '328', '368', '331', '277', '12', '1']\n",
      "0.7147332091139783\n"
     ]
    }
   ],
   "source": [
    "#try to drop colinear by one (or by few if score improved)and measure score\n",
    "\n",
    "m=XGBClassifier(random_state=243, n_jobs=-1,scale_pos_weight=24,n_estimators=105)\n",
    "shuffle(col_fi_008)\n",
    "\n",
    "feat_list=['24']\n",
    "col1=X_train_[col_fi_008].columns.drop(feat_list)\n",
    "drop=[]\n",
    "info=[]\n",
    "my=0.76517\n",
    "\n",
    "for i in list(col1):\n",
    "    info.append(i)\n",
    "    print(info)\n",
    "    drop=i\n",
    "    keep_col=X_train_[col_fi_008].columns.drop(drop)\n",
    "    keep_col_1=X_train[keep_col].columns.drop(feat_list)\n",
    "    sc=score_cv(m,keep_col_1,roc_auc_score)\n",
    "    print(sc)\n",
    "    if round(sc,5)>=my:\n",
    "        my=sc\n",
    "        feat_list.append(i)\n",
    "        print(i)\n",
    "        print(sc)\n",
    "    else:\n",
    "        continue\n"
   ]
  },
  {
   "cell_type": "code",
   "execution_count": 237,
   "metadata": {},
   "outputs": [
    {
     "data": {
      "text/plain": [
       "['24']"
      ]
     },
     "execution_count": 237,
     "metadata": {},
     "output_type": "execute_result"
    }
   ],
   "source": [
    "feat_list"
   ]
  },
  {
   "cell_type": "code",
   "execution_count": 14,
   "metadata": {},
   "outputs": [
    {
     "name": "stdout",
     "output_type": "stream",
     "text": [
      "FI_col_0.008_dr_col, amount = 26\n"
     ]
    }
   ],
   "source": [
    "# Remember columns feat imp 0.008 and drop colin '24'\n",
    "col_fi_008_dr_col=X_train_[col_fi_008].drop(['24'],axis=1).columns\n",
    "print('FI_col_0.008_dr_col, amount =',len(col_fi_008_dr_col))"
   ]
  },
  {
   "cell_type": "code",
   "execution_count": 250,
   "metadata": {},
   "outputs": [
    {
     "name": "stdout",
     "output_type": "stream",
     "text": [
      "Amount_columns= 26\n"
     ]
    },
    {
     "data": {
      "text/plain": [
       "0.7654021879673525"
      ]
     },
     "execution_count": 250,
     "metadata": {},
     "output_type": "execute_result"
    }
   ],
   "source": [
    "#check score with new share columns\n",
    "m=XGBClassifier(random_state=243, n_jobs=-1,scale_pos_weight=24,n_estimators=105)\n",
    "col=col_fi_008_dr_col\n",
    "print('Amount_columns=', len(col_fi_008_dr_col))\n",
    "score_cv(m,col,roc_auc_score)"
   ]
  },
  {
   "cell_type": "code",
   "execution_count": 251,
   "metadata": {},
   "outputs": [],
   "source": [
    "#submit X_test_with n_est - fi-drop colin Kaggle 0.75788\n",
    "m=XGBClassifier(random_state=243, n_jobs=-1,scale_pos_weight=24,n_estimators=105)\n",
    "col=col_fi_008_dr_col.copy()\n",
    "m.fit(X_train_[col],y_train)\n",
    "pred_n_est105_dr_col_feat=m.predict(X_test_[col])\n",
    "submission = pd.read_csv(\"sample_submission.csv\", index_col='ID')\n",
    "submission['TARGET'] = pred_n_est105_dr_col_feat.astype(int)\n",
    "submission.to_csv('sample_submission.csv')"
   ]
  },
  {
   "cell_type": "markdown",
   "metadata": {},
   "source": [
    "## Threshold tune"
   ]
  },
  {
   "cell_type": "code",
   "execution_count": 70,
   "metadata": {},
   "outputs": [
    {
     "name": "stdout",
     "output_type": "stream",
     "text": [
      "0.7654021879673525\n"
     ]
    }
   ],
   "source": [
    "kf = StratifiedKFold(n_splits=2, shuffle=True, random_state=5)\n",
    "m=XGBClassifier(random_state=243, n_jobs=-1,scale_pos_weight=24,n_estimators=105)\n",
    "col=col_fi_008_dr_col.copy()\n",
    "\n",
    "pred_proba_list=[]\n",
    "y_train_list=[]\n",
    "for i in [0.5]:\n",
    "    threshold = i\n",
    "    sc=[]\n",
    "    for train, test in kf.split(X_train_,y_train):\n",
    "            m.fit(X_train_.iloc[train][col], y_train.iloc[train])\n",
    "            pred_proba = m.predict_proba(X_train_.iloc[test][col])\n",
    "            # list to write data\n",
    "            pred_proba_list.append((pred_proba [:,1]).T)\n",
    "            y_train_list.append(y_train.iloc[test].values)\n",
    "            pred = (pred_proba [:,1] >=threshold).astype('int')\n",
    "            score=roc_auc_score(y_train.iloc[test].values,pred,average='weighted')\n",
    "            sc.append(score)\n",
    "            \n",
    "    print(np.mean(sc))\n",
    "            "
   ]
  },
  {
   "cell_type": "markdown",
   "metadata": {},
   "source": [
    "## Check Mistakes"
   ]
  },
  {
   "cell_type": "code",
   "execution_count": 82,
   "metadata": {},
   "outputs": [
    {
     "name": "stdout",
     "output_type": "stream",
     "text": [
      "0.6547984480857849\n",
      "0.0\n"
     ]
    },
    {
     "data": {
      "text/plain": [
       "array([[<matplotlib.axes._subplots.AxesSubplot object at 0x0000000008C34B00>,\n",
       "        <matplotlib.axes._subplots.AxesSubplot object at 0x0000000008D2C240>]],\n",
       "      dtype=object)"
      ]
     },
     "execution_count": 82,
     "metadata": {},
     "output_type": "execute_result"
    },
    {
     "data": {
      "image/png": "[encoded data removed]",
      "text/plain": [
       "<Figure size 432x288 with 2 Axes>"
      ]
     },
     "metadata": {
      "needs_background": "light"
     },
     "output_type": "display_data"
    }
   ],
   "source": [
    "\n",
    "a=pd.DataFrame(pred_proba_list[0])\n",
    "b=pd.DataFrame(pred_proba_list[1])\n",
    "\n",
    "a_y=pd.DataFrame(y_train_list[0])\n",
    "b_y=pd.DataFrame(y_train_list[1])\n",
    "\n",
    "c=pd.concat([a,b],axis=0)\n",
    "c_y=pd.concat([a_y,b_y],axis=0)\n",
    "\n",
    "compare=pd.concat([c_y,c],axis=1)\n",
    "compare.columns=['TARGET','0']\n",
    "\n",
    "class_1=compare.loc[compare['TARGET']==1]\n",
    "print(np.mean(class_1['0']))\n",
    "\n",
    "class_0=compare.loc[compare['TARGET']==0]\n",
    "print(np.mean(class_0['TARGET']))\n",
    "\n",
    "class_0.hist()"
   ]
  },
  {
   "cell_type": "markdown",
   "metadata": {},
   "source": [
    "# Conclusion \n",
    "\n",
    "We improved roc_auc_score from baseline 0.5 to 0.7654\n",
    "We identified 78 % unsatisfied client, but more satisfied cliens was as well identifies as non satisfied."
   ]
  },
  {
   "cell_type": "code",
   "execution_count": 133,
   "metadata": {},
   "outputs": [
    {
     "name": "stdout",
     "output_type": "stream",
     "text": [
      "Roc_AUC: \n",
      " 0.7654021879673526\n",
      "Confusion_matrix_Baseline: \n",
      " [[56644 16368]\n",
      " [  737  2271]]\n"
     ]
    }
   ],
   "source": [
    "#Tunned confusion matrix\n",
    "\n",
    "m=XGBClassifier(random_state=243, n_jobs=-1,scale_pos_weight=24,n_estimators=105)\n",
    "col=col_fi_008_dr_col.copy()\n",
    "conf_matrix(m,col)"
   ]
  },
  {
   "cell_type": "code",
   "execution_count": 134,
   "metadata": {},
   "outputs": [
    {
     "name": "stdout",
     "output_type": "stream",
     "text": [
      "Roc_AUC: \n",
      " 0.5004644292660723\n",
      "Confusion_matrix_Baseline: \n",
      " [[73007     5]\n",
      " [ 3005     3]]\n"
     ]
    }
   ],
   "source": [
    "#Baseline confusion matrix\n",
    "m=XGBClassifier(random_state=243, n_jobs=-1)\n",
    "col=X_train_.columns\n",
    "conf_matrix(m,col)"
   ]
  },
  {
   "cell_type": "code",
   "execution_count": 139,
   "metadata": {},
   "outputs": [
    {
     "name": "stdout",
     "output_type": "stream",
     "text": [
      "Roc_AUC: \n",
      " 0.7633926268750926\n",
      "Confusion_matrix_Baseline: \n",
      " [[58438 14574]\n",
      " [  823  2185]]\n"
     ]
    }
   ],
   "source": [
    "m=XGBClassifier(random_state=243, n_jobs=-1,scale_pos_weight=21,n_estimators=105)\n",
    "col=col_fi_008_dr_col.copy()\n",
    "conf_matrix(m,col)"
   ]
  },
  {
   "cell_type": "code",
   "execution_count": null,
   "metadata": {},
   "outputs": [],
   "source": []
  }
 ],
 "metadata": {
  "kernelspec": {
   "display_name": "Python 3",
   "language": "python",
   "name": "python3"
  },
  "language_info": {
   "codemirror_mode": {
    "name": "ipython",
    "version": 3
   },
   "file_extension": ".py",
   "mimetype": "text/x-python",
   "name": "python",
   "nbconvert_exporter": "python",
   "pygments_lexer": "ipython3",
   "version": "3.7.3"
  }
 },
 "nbformat": 4,
 "nbformat_minor": 4
}
