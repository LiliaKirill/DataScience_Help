{
 "cells": [
  {
   "cell_type": "markdown",
   "metadata": {},
   "source": [
    "# Goal\n",
    "\n",
    "Goal of given work is to study methods of dealing with imbalanced ds"
   ]
  },
  {
   "cell_type": "markdown",
   "metadata": {},
   "source": [
    "Up-sample the minority class\n",
    "Down-sample the majority class\n",
    "Change your performance metric\n",
    "Penalize algorithms (cost-sensitive training)\n",
    "Use tree-based algorithms"
   ]
  },
  {
   "cell_type": "markdown",
   "metadata": {},
   "source": [
    "# Load\n",
    "\n"
   ]
  },
  {
   "cell_type": "code",
   "execution_count": 64,
   "metadata": {},
   "outputs": [],
   "source": [
    "import numpy as np\n",
    "import pandas as pd\n",
    "from xgboost.sklearn import XGBClassifier\n",
    "from sklearn.metrics import roc_auc_score\n",
    "from sklearn.datasets import load_breast_cancer\n",
    "\n",
    "from sklearn.model_selection import train_test_split\n",
    "\n",
    "from sklearn.utils import resample\n",
    "import matplotlib.pyplot as plt"
   ]
  },
  {
   "cell_type": "markdown",
   "metadata": {},
   "source": [
    "# Data"
   ]
  },
  {
   "cell_type": "code",
   "execution_count": 50,
   "metadata": {},
   "outputs": [
    {
     "name": "stdout",
     "output_type": "stream",
     "text": [
      "Classes_proportion\n"
     ]
    },
    {
     "data": {
      "text/plain": [
       "1    357\n",
       "0    212\n",
       "Name: TARGET, dtype: int64"
      ]
     },
     "execution_count": 50,
     "metadata": {},
     "output_type": "execute_result"
    }
   ],
   "source": [
    "df=load_breast_cancer()\n",
    "\n",
    "x=pd.DataFrame(df['data'])\n",
    "y=pd.DataFrame(df['target'])\n",
    "\n",
    "x.columns=df['feature_names']\n",
    "y.columns=['TARGET']\n",
    "\n",
    "#Unbalanced Dataset\n",
    "print('Classes_proportion')\n",
    "y['TARGET'].value_counts()"
   ]
  },
  {
   "cell_type": "code",
   "execution_count": 51,
   "metadata": {},
   "outputs": [
    {
     "name": "stdout",
     "output_type": "stream",
     "text": [
      "Share_0/1_train\n",
      " 1    0.627119\n",
      "0    0.372881\n",
      "Name: TARGET, dtype: float64\n",
      "Share_0/1_test\n",
      " 1    0.628866\n",
      "0    0.371134\n",
      "Name: TARGET, dtype: float64\n",
      "----------------------------------------------------------\n",
      "Same Share in train_test\n"
     ]
    }
   ],
   "source": [
    "X_train,X_val,y_train,y_val=train_test_split(x,y,test_size=0.17,shuffle=True,random_state=1,stratify=y)\n",
    "\n",
    "# With test size 17% we have best split - train equal to test\n",
    "print('Share_0/1_train\\n', y_train['TARGET'].value_counts()/len(y_train))\n",
    "print('Share_0/1_test\\n', y_val['TARGET'].value_counts()/len(y_val))\n",
    "print('----------------------------------------------------------')\n",
    "print('Same Share in train_test')"
   ]
  },
  {
   "cell_type": "markdown",
   "metadata": {},
   "source": [
    "# Baseline"
   ]
  },
  {
   "cell_type": "code",
   "execution_count": 52,
   "metadata": {},
   "outputs": [
    {
     "name": "stdout",
     "output_type": "stream",
     "text": [
      "Baseline_Score: 0.9695852534562213\n"
     ]
    },
    {
     "name": "stderr",
     "output_type": "stream",
     "text": [
      "C:\\anaconda1\\lib\\site-packages\\sklearn\\preprocessing\\_label.py:235: DataConversionWarning: A column-vector y was passed when a 1d array was expected. Please change the shape of y to (n_samples, ), for example using ravel().\n",
      "  y = column_or_1d(y, warn=True)\n",
      "C:\\anaconda1\\lib\\site-packages\\sklearn\\preprocessing\\_label.py:268: DataConversionWarning: A column-vector y was passed when a 1d array was expected. Please change the shape of y to (n_samples, ), for example using ravel().\n",
      "  y = column_or_1d(y, warn=True)\n"
     ]
    }
   ],
   "source": [
    "#score baseline\n",
    "\n",
    "m=XGBClassifier(random_state=234,n_jobs=-1)\n",
    "m.fit(X_train,y_train)\n",
    "pred=m.predict(X_val)\n",
    "score=roc_auc_score(pred,y_val,average='weighted')\n",
    "print('Baseline_Score:', score)"
   ]
  },
  {
   "cell_type": "code",
   "execution_count": 53,
   "metadata": {},
   "outputs": [
    {
     "data": {
      "text/plain": [
       "0.9695852534562213"
      ]
     },
     "execution_count": 53,
     "metadata": {},
     "output_type": "execute_result"
    }
   ],
   "source": [
    "score"
   ]
  },
  {
   "cell_type": "markdown",
   "metadata": {},
   "source": [
    "# 1. Create more minor class samples (syntetic) and combine with major"
   ]
  },
  {
   "cell_type": "code",
   "execution_count": 56,
   "metadata": {},
   "outputs": [
    {
     "data": {
      "text/plain": [
       "1    296\n",
       "0    176\n",
       "Name: TARGET, dtype: int64"
      ]
     },
     "execution_count": 56,
     "metadata": {},
     "output_type": "execute_result"
    }
   ],
   "source": [
    "y_train['TARGET'].value_counts()"
   ]
  },
  {
   "cell_type": "code",
   "execution_count": 96,
   "metadata": {},
   "outputs": [
    {
     "name": "stdout",
     "output_type": "stream",
     "text": [
      "       Score  Minor\n",
      "2   0.984127    178\n",
      "32  0.984127    208\n",
      "84  0.976562    260\n",
      "57  0.976562    233\n"
     ]
    },
    {
     "data": {
      "text/plain": [
       "[<matplotlib.lines.Line2D at 0x1f5d93c8>]"
      ]
     },
     "execution_count": 96,
     "metadata": {},
     "output_type": "execute_result"
    },
    {
     "data": {
      "image/png": "[encoded data removed]",
      "text/plain": [
       "<Figure size 432x288 with 1 Axes>"
      ]
     },
     "metadata": {
      "needs_background": "light"
     },
     "output_type": "display_data"
    }
   ],
   "source": [
    "df=pd.concat([X_train,y_train],axis=1)\n",
    "# Separate majority and minority classes\n",
    "df_majority = df[df.TARGET==1]\n",
    "df_minority = df[df.TARGET==0]\n",
    "minor_i=[]\n",
    "score_i=[]\n",
    " \n",
    "for i in range(176,296):\n",
    "# Upsample minority class\n",
    "    minor_i.append(i)\n",
    "    df_minority_upsampled = resample(df_minority, \n",
    "                                     replace=True,     # sample with replacement\n",
    "                                     n_samples=i,    # to match majority class\n",
    "                                     random_state=123) # reproducible results\n",
    "\n",
    "    # Combine majority class with upsampled minority class\n",
    "    df_upsampled = pd.concat([df_majority, df_minority_upsampled])\n",
    "\n",
    "    # Display new class counts\n",
    "    #print('We got balanced df')\n",
    "    df_upsampled.TARGET.value_counts()\n",
    "\n",
    "    m=XGBClassifier(random_state=234,n_jobs=-1)\n",
    "    m.fit(df_upsampled.drop(['TARGET'],axis=1),df_upsampled.TARGET)\n",
    "    pred=m.predict(X_val)\n",
    "    score=roc_auc_score(pred,y_val,average='weighted')\n",
    "    \n",
    "    score_i.append(score)\n",
    "score_i=pd.DataFrame(score_i)\n",
    "minor_i=pd.DataFrame(minor_i)\n",
    "\n",
    "score_resample=pd.concat([score_i,minor_i],axis=1)\n",
    "score_resample.columns=['Score','Minor']\n",
    "score_resample=score_resample.sort_values(by=['Score'], ascending=False)\n",
    "print(score_resample[:4])\n",
    "plt.plot(minor_i,score_i)\n"
   ]
  },
  {
   "cell_type": "markdown",
   "metadata": {},
   "source": [
    "##### So, by edding 178 minor values we managed to improve our baseline score from 0.9695 to 0.9841.\n",
    "\n"
   ]
  },
  {
   "cell_type": "markdown",
   "metadata": {},
   "source": [
    "Conclusion: Adding some amount syntetic minor class can help to improve baseline score.\n",
    "Should be tested on Test_data!"
   ]
  },
  {
   "cell_type": "markdown",
   "metadata": {},
   "source": [
    "# 2. Down-sample Majority Class"
   ]
  },
  {
   "cell_type": "code",
   "execution_count": 100,
   "metadata": {},
   "outputs": [
    {
     "name": "stdout",
     "output_type": "stream",
     "text": [
      "        Score  major\n",
      "262  0.977914    264\n",
      "245  0.977914    247\n",
      "261  0.977914    263\n",
      "258  0.977914    260\n"
     ]
    },
    {
     "data": {
      "text/plain": [
       "[<matplotlib.lines.Line2D at 0x1f666e48>]"
      ]
     },
     "execution_count": 100,
     "metadata": {},
     "output_type": "execute_result"
    },
    {
     "data": {
      "image/png": "[encoded data removed]",
      "text/plain": [
       "<Figure size 432x288 with 1 Axes>"
      ]
     },
     "metadata": {
      "needs_background": "light"
     },
     "output_type": "display_data"
    }
   ],
   "source": [
    "df=pd.concat([X_train,y_train],axis=1)\n",
    "# Separate majority and minority classes\n",
    "df_majority = df[df.TARGET==1]\n",
    "df_minority = df[df.TARGET==0]\n",
    "major_i=[]\n",
    "score_i=[]\n",
    " \n",
    "for i in range(2,296):\n",
    "# Upsample minority class\n",
    "    major_i.append(i)\n",
    "    df_majority_upsampled = resample(df_majority, \n",
    "                                     replace=True,     # sample with replacement\n",
    "                                     n_samples=i,    # to match majority class\n",
    "                                     random_state=123) # reproducible results\n",
    "\n",
    "    # Combine majority class with upsampled minority class\n",
    "    df_downsampled = pd.concat([df_minority, df_majority_upsampled])\n",
    "\n",
    "    # Display new class counts\n",
    "    #print('We got balanced df')\n",
    "    df_downsampled.TARGET.value_counts()\n",
    "\n",
    "    m=XGBClassifier(random_state=234,n_jobs=-1)\n",
    "    m.fit(df_downsampled.drop(['TARGET'],axis=1),df_downsampled.TARGET)\n",
    "    pred=m.predict(X_val)\n",
    "    score=roc_auc_score(pred,y_val,average='weighted')\n",
    "    \n",
    "    score_i.append(score)\n",
    "score_i=pd.DataFrame(score_i)\n",
    "major_i=pd.DataFrame(major_i)\n",
    "\n",
    "score_resample=pd.concat([score_i,major_i],axis=1)\n",
    "score_resample.columns=['Score','major']\n",
    "score_resample=score_resample.sort_values(by=['Score'], ascending=False)\n",
    "print(score_resample[:4])\n",
    "plt.plot(major_i,score_i)\n"
   ]
  },
  {
   "cell_type": "markdown",
   "metadata": {},
   "source": [
    "##### So, by dropping 264 major values we managed to improve our baseline score from 0.9695 to 0.9779."
   ]
  },
  {
   "cell_type": "code",
   "execution_count": null,
   "metadata": {},
   "outputs": [],
   "source": []
  }
 ],
 "metadata": {
  "kernelspec": {
   "display_name": "Python 3",
   "language": "python",
   "name": "python3"
  },
  "language_info": {
   "codemirror_mode": {
    "name": "ipython",
    "version": 3
   },
   "file_extension": ".py",
   "mimetype": "text/x-python",
   "name": "python",
   "nbconvert_exporter": "python",
   "pygments_lexer": "ipython3",
   "version": "3.7.3"
  }
 },
 "nbformat": 4,
 "nbformat_minor": 4
}
